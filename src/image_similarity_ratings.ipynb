{
 "cells": [
  {
   "metadata": {},
   "cell_type": "markdown",
   "source": [
    "# Image Classification and Convolutional Neural Networks\n",
    "## Cognitive Modeling  Summer 2024 Project"
   ],
   "id": "55ea8a5939edf05e"
  },
  {
   "metadata": {},
   "cell_type": "markdown",
   "source": [
    "## Downloading EMNIST\n",
    "To run below code we need to load the EMNIST's \"test set\" and we will use our pre-trained model/network from earlier. "
   ],
   "id": "58500d85c9b88adc"
  },
  {
   "metadata": {
    "ExecuteTime": {
     "end_time": "2024-08-13T11:12:39.156010Z",
     "start_time": "2024-08-13T11:12:32.161585Z"
    }
   },
   "cell_type": "code",
   "source": [
    "from __future__ import print_function\n",
    "%matplotlib inline\n",
    "import matplotlib.pyplot as plt\n",
    "import torch\n",
    "import torch.nn as nn\n",
    "import torch.nn.functional as F\n",
    "from torchvision import datasets, transforms, utils\n",
    "from torch.autograd import Variable\n",
    "import os\n",
    "import numpy as np\n",
    "from scipy.spatial.distance import cosine\n",
    "import random\n",
    "import string\n",
    "from PIL import Image"
   ],
   "id": "1319b3559f83a1fc",
   "outputs": [],
   "execution_count": 1
  },
  {
   "cell_type": "code",
   "id": "initial_id",
   "metadata": {
    "collapsed": true,
    "ExecuteTime": {
     "end_time": "2024-08-13T11:13:04.291813Z",
     "start_time": "2024-08-13T11:13:04.108545Z"
    }
   },
   "source": [
    "print('Loading EMNIST')\n",
    "\n",
    "# Define the transformation for the dataset\n",
    "transform = transforms.Compose([\n",
    "    transforms.ToTensor(),\n",
    "    transforms.Normalize((0.5,), (0.5,))  # Normalization values can be adjusted based on the EMNIST dataset\n",
    "])\n",
    "\n",
    "# Load the EMNIST dataset\n",
    "test_loader = torch.utils.data.DataLoader(\n",
    "    datasets.EMNIST('data/',  # Specify your desired path\n",
    "                    split='byclass',  # 'byclass' contains both digits and letters\n",
    "                    train=False,      # Load the test dataset\n",
    "                    download=True,\n",
    "                    transform=transform),\n",
    "    batch_size=1000, shuffle=True)\n",
    "\n",
    "print('EMNIST has been loaded.')\n",
    "\n",
    "device = torch.device(\"cuda\" if torch.cuda.is_available() else \"cpu\")\n",
    "print(f\"Using device: {device}\")"
   ],
   "outputs": [
    {
     "name": "stdout",
     "output_type": "stream",
     "text": [
      "Loading EMNIST\n",
      "EMNIST has been loaded.\n",
      "Using device: cpu\n"
     ]
    }
   ],
   "execution_count": 2
  },
  {
   "metadata": {
    "ExecuteTime": {
     "end_time": "2024-08-13T11:13:07.665286Z",
     "start_time": "2024-08-13T11:13:07.646316Z"
    }
   },
   "cell_type": "code",
   "source": [
    "def number_to_char(num):\n",
    "    if 0 <= num <= 9:\n",
    "        return str(num)  # Return the number as a string\n",
    "    elif 10 <= num <= 35:\n",
    "        return chr(num + 55)  # Convert to uppercase letter ('A' starts at 65)\n",
    "    elif 36 <= num <= 61:\n",
    "        return chr(num + 61)  # Convert to lowercase letter ('a' starts at 97)\n",
    "    else:\n",
    "        return \"Invalid input\"  # Handle out of range inputs"
   ],
   "id": "9c811b3936bd3e5c",
   "outputs": [],
   "execution_count": 3
  },
  {
   "metadata": {},
   "cell_type": "markdown",
   "source": [
    "## Convnet architecture for digit recognition\n",
    "**First convolutional layer**: take an image (28x28 for EMNIST), and give 62 new images\n",
    "\n",
    "**Second convolutional layer**: takes feature maps from 1st layer and gives 128 new feature maps\n",
    "\n",
    "**Fully-connected layer**: fully-connected layer of 256 units and entire image is summarized with a vector of size 50 \n",
    "\n",
    "**Output layer**: 62 units with one to represent each of the 10 digits + 26 uppercase + 26 lowercase letters and ses a softmax activation function, to ensure the network's predictions are a valid probability distribution"
   ],
   "id": "935910b7fb2f7eab"
  },
  {
   "metadata": {
    "ExecuteTime": {
     "end_time": "2024-08-13T11:13:09.938038Z",
     "start_time": "2024-08-13T11:13:09.926206Z"
    }
   },
   "cell_type": "code",
   "source": [
    "# Define the neural network model\n",
    "class CNNModel(nn.Module):\n",
    "    def __init__(self, num_classes=62):  # Change this to 62\n",
    "        super(CNNModel, self).__init__()\n",
    "        # Define the layers here\n",
    "        self.conv1 = nn.Conv2d(1, num_classes, kernel_size=5)  # First convolutional layer\n",
    "        self.conv2 = nn.Conv2d(num_classes, num_classes*2, kernel_size=5) # Second convolutional layer\n",
    "        self.fc1 = nn.Linear(num_classes * 2 * 4 * 4, num_classes * 4)         # First fully-connected layer\n",
    "        self.fc2 = nn.Linear(num_classes * 4, num_classes)        # Final ouptut layer\n",
    "        self.num_classes = num_classes\n",
    "\n",
    "    def forward(self, x):\n",
    "        # first convolutional layer\n",
    "        h_conv1 = self.conv1(x)\n",
    "        h_conv1 = F.relu(h_conv1)\n",
    "        h_conv1_pool = F.max_pool2d(h_conv1, 2)\n",
    "\n",
    "        # second convolutional layer\n",
    "        h_conv2 = self.conv2(h_conv1_pool)\n",
    "        h_conv2 = F.relu(h_conv2)\n",
    "        h_conv2_pool = F.max_pool2d(h_conv2, 2)\n",
    "\n",
    "        # fully-connected layer\n",
    "        h_fc1 = h_conv2_pool.view(-1, self.num_classes * 2 * 4 * 4)\n",
    "        h_fc1 = self.fc1(h_fc1)\n",
    "        h_fc1 = F.relu(h_fc1)\n",
    "\n",
    "        # classifier output\n",
    "        output = self.fc2(h_fc1)\n",
    "        output = F.log_softmax(output,dim=1)\n",
    "        return output, h_fc1, h_conv2, h_conv1\n",
    "emnist_classes = list(string.digits + string.ascii_uppercase + string.ascii_lowercase)"
   ],
   "id": "e466ae8f727f48a",
   "outputs": [],
   "execution_count": 4
  },
  {
   "metadata": {},
   "cell_type": "markdown",
   "source": [
    "## Evaluating classification performance of the network\n",
    "The code below will load our trained model and test the model's accuracy."
   ],
   "id": "80683f4daae9d96"
  },
  {
   "metadata": {
    "ExecuteTime": {
     "end_time": "2024-08-13T11:13:11.937634Z",
     "start_time": "2024-08-13T11:13:11.921986Z"
    }
   },
   "cell_type": "code",
   "source": [
    "# Evaluate classification accuracy on the entire EMNIST test set\n",
    "def test_model():\n",
    "    correct = 0\n",
    "    for data, target in test_loader:\n",
    "        # run the data through the network\n",
    "        output, _, _, _ = model(data)  # Adjusted to remove extra outputs\n",
    "        # compare prediction to ground truth\n",
    "        pred = torch.max(output, dim=1)[1]  # get the index of the max log-probability\n",
    "        correct += torch.eq(pred, target.view_as(pred)).cpu().sum().item()\n",
    "    perc_correct = 100. * correct / len(test_loader.dataset)\n",
    "    return perc_correct\n",
    "\n",
    "# Show the network's predicted class for an arbitrary set of `nshow` images from the EMNIST test set\n",
    "def test_viz(nshow=10):\n",
    "    testiter = iter(test_loader)\n",
    "    images, target = next(testiter)\n",
    "    perm = np.random.permutation(images.shape[0])\n",
    "    data = images[perm[:nshow]]\n",
    "    \n",
    "    output, _, _, _ = model(data)\n",
    "    pred = torch.max(output, dim=1)[1]\n",
    "    pred = pred.numpy().flatten()\n",
    "    \n",
    "    for i in range(nshow):\n",
    "        ax = plt.subplot(1, nshow, i + 1)\n",
    "        imshow(utils.make_grid(data[i]))\n",
    "        if pred[i] < len(emnist_classes):\n",
    "            plt.title(emnist_classes[pred[i]])\n",
    "        else:\n",
    "            plt.title('Unknown')\n",
    "        \n",
    "# Display an image from the EMNIST data set\n",
    "def imshow(img):\n",
    "    img = 1 - (img * 0.5 + 0.5)  # Invert the normalization if needed\n",
    "    npimg = img.numpy()\n",
    "    npimg = np.transpose(npimg, (1, 2, 0))  # Transpose dimensions for correct orientation\n",
    "    npimg = np.rot90(npimg, k=1)  # Rotate the image counterclockwise (adjust k as needed)\n",
    "    npimg = np.flipud(npimg)\n",
    "    plt.imshow(npimg, cmap='gray')\n",
    "    plt.axis('off')"
   ],
   "id": "9242a0325e6d3c90",
   "outputs": [],
   "execution_count": 5
  },
  {
   "metadata": {
    "ExecuteTime": {
     "end_time": "2024-08-13T11:15:24.440256Z",
     "start_time": "2024-08-13T11:13:13.277524Z"
    }
   },
   "cell_type": "code",
   "source": [
    "# Loading the model\n",
    "model = CNNModel()\n",
    "model.load_state_dict(torch.load('training/emnist_cnn_model.pt', weights_only=False, map_location=device))\n",
    "model.eval()\n",
    "print('Convnet has been loaded successfull.')\n",
    "print(f'Number of classes: {len(emnist_classes)}')\n",
    "\n",
    "print('Running through the test set...')\n",
    "test_acc = test_model()\n",
    "print('Accuracy on the test set is %.2f percent correct!' % test_acc)\n",
    "print(\"\")\n",
    "print(\"The images are shown below their predicted class labels.\")\n",
    "test_viz()"
   ],
   "id": "f4b428f0a1af0a2e",
   "outputs": [
    {
     "name": "stdout",
     "output_type": "stream",
     "text": [
      "Convnet has been loaded successfull.\n",
      "Number of classes: 62\n",
      "Running through the test set...\n",
      "Accuracy on the test set is 86.13 percent correct!\n",
      "\n",
      "The images are shown below their predicted class labels.\n"
     ]
    },
    {
     "data": {
      "text/plain": [
       "<Figure size 640x480 with 10 Axes>"
      ],
      "image/png": "[encoded data removed]"
     },
     "metadata": {},
     "output_type": "display_data"
    }
   ],
   "execution_count": 6
  },
  {
   "metadata": {},
   "cell_type": "markdown",
   "source": [
    "## Selecting digits and letters for similarity analysis\n",
    "We are going to generate a set of random letters and digits pairs from a particular image class and evaluate these images on the EMNIST test set."
   ],
   "id": "c7e9e6089271b3c9"
  },
  {
   "metadata": {
    "ExecuteTime": {
     "end_time": "2024-08-13T11:15:55.833922Z",
     "start_time": "2024-08-13T11:15:55.805303Z"
    }
   },
   "cell_type": "code",
   "source": [
    "def get_random_subset(class_select_list, npairs=20):\n",
    "    testiter = iter(test_loader)\n",
    "    images, target = next(testiter)\n",
    "    \n",
    "    initial_npairs = npairs\n",
    "    \n",
    "    images1_list = []\n",
    "    images2_list = []\n",
    "    \n",
    "    for class_select in class_select_list:\n",
    "        indices = np.flatnonzero(target.numpy() == class_select)\n",
    "        \n",
    "        while len(indices) < 2 * initial_npairs:\n",
    "            initial_npairs -= 1\n",
    "        \n",
    "        np.random.shuffle(indices)\n",
    "        \n",
    "        indx1 = torch.tensor(indices[:initial_npairs], dtype=torch.long)\n",
    "        indx2 = torch.tensor(indices[initial_npairs:initial_npairs*2], dtype=torch.long)\n",
    "        images1 = images[indx1]\n",
    "        images2 = images[indx2]\n",
    "        \n",
    "        images1_list.append(images1)\n",
    "        images2_list.append(images2)\n",
    "        \n",
    "        plt.figure(figsize=(8, initial_npairs * 2))\n",
    "        plot_image_pairs(images1, images2, class_name=class_select)\n",
    "        plt.show()\n",
    "        initial_npairs = npairs\n",
    "\n",
    "    return images1_list, images2_list\n",
    "\n",
    "def plot_image_pairs(images1, images2, scores_net=[], scores_people=[], save_dir='images/', class_name=''):\n",
    "    npairs = images1.size()[0]\n",
    "    assert images2.size()[0] == npairs\n",
    "    \n",
    "    for i in range(npairs):\n",
    "        ax1 = plt.subplot(npairs, 2, 2*i + 1)\n",
    "        imshow(utils.make_grid(images1[i:i+1]))\n",
    "        plt.axis('off')\n",
    "        \n",
    "        ax2 = plt.subplot(npairs, 2, 2*i + 2)\n",
    "        imshow(utils.make_grid(images2[i:i+1]))\n",
    "        plt.axis('off')\n",
    "        \n",
    "        mytitle = ''\n",
    "        if len(scores_net) > 0:\n",
    "            mytitle += 'net %.2f, ' % scores_net[i] \n",
    "        if len(scores_people) > 0:\n",
    "            mytitle += 'human %.2f' % scores_people[i]\n",
    "        \n",
    "        if mytitle:\n",
    "            ax1.set_title(mytitle)\n",
    "    # Define the filename\n",
    "    filename = os.path.join(save_dir, f'used_image_pair_{number_to_char(class_name)}.png')\n",
    "    try:\n",
    "        # Save each pair as a separate file\n",
    "        print(f'Saving file: {filename}')\n",
    "        plt.savefig(filename)\n",
    "    except Exception as e:\n",
    "        print(f'Error saving file {filename}: {e}')\n",
    "            \n",
    "def check_class_distribution(target):\n",
    "    unique, counts = np.unique(target.numpy(), return_counts=True)\n",
    "    for cls, count in zip(unique, counts):\n",
    "        print(f\"Class {cls} has {count} samples.\")"
   ],
   "id": "a2d6f138748c9030",
   "outputs": [],
   "execution_count": 7
  },
  {
   "metadata": {},
   "cell_type": "markdown",
   "source": "Code for generating multiple different image pairs of different digits and letters.",
   "id": "53fbbb23ec7aaa20"
  },
  {
   "metadata": {
    "ExecuteTime": {
     "end_time": "2024-08-13T11:16:02.255016Z",
     "start_time": "2024-08-13T11:16:00.779444Z"
    }
   },
   "cell_type": "code",
   "source": [
    "# testiter = iter(test_loader)\n",
    "# _, target = next(testiter)\n",
    "# check_class_distribution(target)\n",
    "\n",
    "test_list = [40, 22, 3, 30]\n",
    "images1_list, images2_list = get_random_subset(class_select_list=test_list, npairs=3)"
   ],
   "id": "19b9963d81b9abb2",
   "outputs": [
    {
     "name": "stdout",
     "output_type": "stream",
     "text": [
      "Saving file: images/used_image_pair_e.png\n"
     ]
    },
    {
     "data": {
      "text/plain": [
       "<Figure size 800x600 with 6 Axes>"
      ],
      "image/png": "[encoded data removed]"
     },
     "metadata": {},
     "output_type": "display_data"
    },
    {
     "name": "stdout",
     "output_type": "stream",
     "text": [
      "Saving file: images/used_image_pair_M.png\n"
     ]
    },
    {
     "data": {
      "text/plain": [
       "<Figure size 800x600 with 6 Axes>"
      ],
      "image/png": "[encoded data removed]"
     },
     "metadata": {},
     "output_type": "display_data"
    },
    {
     "name": "stdout",
     "output_type": "stream",
     "text": [
      "Saving file: images/used_image_pair_3.png\n"
     ]
    },
    {
     "data": {
      "text/plain": [
       "<Figure size 800x600 with 6 Axes>"
      ],
      "image/png": "[encoded data removed]"
     },
     "metadata": {},
     "output_type": "display_data"
    },
    {
     "name": "stdout",
     "output_type": "stream",
     "text": [
      "Saving file: images/used_image_pair_U.png\n"
     ]
    },
    {
     "data": {
      "text/plain": [
       "<Figure size 800x600 with 6 Axes>"
      ],
      "image/png": "[encoded data removed]"
     },
     "metadata": {},
     "output_type": "display_data"
    }
   ],
   "execution_count": 8
  },
  {
   "metadata": {},
   "cell_type": "markdown",
   "source": [
    "## Computing similarity judgments with the network\n",
    "To get predictions from the network, we use the hidden representation of an image at a particular layer to compute high-level features. We then compare these features using cosine similarity, which measures the angle between two vectors to assess the similarity between patterns of activation."
   ],
   "id": "5fd64adaeaa0f1ad"
  },
  {
   "metadata": {
    "ExecuteTime": {
     "end_time": "2024-08-13T11:16:08.789967Z",
     "start_time": "2024-08-13T11:16:08.769355Z"
    }
   },
   "cell_type": "code",
   "source": [
    "# Re-scale a vector to have a minimum value of 0 and a maximum of 1\n",
    "def normalize(v):\n",
    "    v = v - v.min()\n",
    "    v = v / v.max()\n",
    "    return v\n",
    "\n",
    "# Compute convnet similarity for each pair of images\n",
    "def get_sim_judgments(images1, images2, layer='fc'):\n",
    "    N = images1.size()[0]  # Number of pairs\n",
    "    assert N == images2.size()[0]\n",
    "    \n",
    "    # Pass images through the model to get intermediate layers\n",
    "    output_1, h_fc1_1, h_conv2_1, h_conv1_1 = model(images1)\n",
    "    output_2, h_fc1_2, h_conv2_2, h_conv1_2 = model(images2)\n",
    "    \n",
    "    # Grab the tensors from the appropriate layer\n",
    "    if layer == 'fc':\n",
    "        T1 = h_fc1_1\n",
    "        T2 = h_fc1_2\n",
    "    elif layer == 'conv1':\n",
    "        T1 = h_conv1_1\n",
    "        T2 = h_conv1_2\n",
    "    elif layer == 'conv2':\n",
    "        T1 = h_conv2_1\n",
    "        T2 = h_conv2_2\n",
    "    else:\n",
    "        raise Exception('Layer parameter has unrecognized value')\n",
    "    \n",
    "    # Flatten the tensors for each image\n",
    "    T1 = T1.detach().numpy().reshape(N, -1)\n",
    "    T2 = T2.detach().numpy().reshape(N, -1)\n",
    "\n",
    "    v_sim = np.zeros(N)\n",
    "    for i in range(N):  # For each pair\n",
    "        v1 = T1[i, :]\n",
    "        v2 = T2[i, :]\n",
    "        v_sim[i] = 1 - cosine(v1, v2)  # Using cosine distance\n",
    "\n",
    "    return v_sim"
   ],
   "id": "c1fe5eff661f4bff",
   "outputs": [],
   "execution_count": 9
  },
  {
   "metadata": {},
   "cell_type": "markdown",
   "source": [
    "## Rating the image pairs\n",
    "1. Get judgments from the network: done by using get_sim_judgments methods\n",
    "2. Get judgments from people: ask x people to rate each image on a scale of 1 (least similar) to 10 (most similar)"
   ],
   "id": "30ac266f13236844"
  },
  {
   "metadata": {
    "ExecuteTime": {
     "end_time": "2024-08-13T11:24:03.175786Z",
     "start_time": "2024-08-13T11:24:03.166030Z"
    }
   },
   "cell_type": "code",
   "source": [
    "def find_score(image):\n",
    "    image_score = 0\n",
    "    index_count = 0\n",
    "    dem = 10.0000\n",
    "    for i in image:\n",
    "        try: \n",
    "            for j in i:\n",
    "                image_score += j\n",
    "                index_count += 1\n",
    "                dem = 10.0000000\n",
    "        except TypeError: \n",
    "            image_score += i\n",
    "            index_count += 1\n",
    "            if image_score >= 10:  dem = 10.0000000\n",
    "            else: dem = 1.0000000\n",
    "    return ( image_score / index_count ) / dem"
   ],
   "id": "246ec59ecd3ffe9",
   "outputs": [],
   "execution_count": 15
  },
  {
   "metadata": {
    "ExecuteTime": {
     "end_time": "2024-08-13T11:28:46.814896Z",
     "start_time": "2024-08-13T11:28:46.775003Z"
    }
   },
   "cell_type": "code",
   "source": [
    "all_v_sim_net = []\n",
    "\n",
    "# our friends rated above images\n",
    "image_e_human_rating = [[3, 5, 6, 4, 6, 8, 5, 6], [1, 2, 5, 3, 3, 2, 3, 4], [4, 4, 3, 5, 6, 6, 7, 2]]\n",
    "image_M_human_rating = [[9, 8, 9, 7, 6, 7, 8, 9], [6, 4, 6, 5, 7, 8, 4, 5], [7, 3, 6, 4, 5, 6, 6, 4]]\n",
    "image_3_human_rating = [[6, 5, 7, 6, 8, 4, 5, 6], [7, 5, 6, 4, 6, 7, 5, 8], [2, 5, 6, 4, 7, 5, 5, 5]]\n",
    "image_U_human_rating = [[1, 1, 4, 3, 4, 3, 2, 4], [3, 2, 1, 2, 4, 2, 2, 1], [3, 4, 5, 8, 4, 7, 6, 5]]\n",
    "\n",
    "\n",
    "all_human_ratings = [find_score(image_e_human_rating), find_score(image_M_human_rating), find_score(image_3_human_rating), find_score(image_U_human_rating)]\n",
    "\n",
    "all_human_ratings_not_average = [image_e_human_rating, image_M_human_rating, image_3_human_rating, image_U_human_rating]\n",
    "\n",
    "index = 0\n",
    "for i, j in zip(images1_list, images2_list):\n",
    "    v_sim_net = get_sim_judgments(i, j, 'fc')\n",
    "    print(f\"Model similarity rating for {number_to_char(test_list[index])}: {v_sim_net}\")\n",
    "    print(f\"Human similarity rating for {number_to_char(test_list[index])}: [{find_score(all_human_ratings_not_average[index][0]):.8f} {find_score(all_human_ratings_not_average[index][1]):.8f} {find_score(all_human_ratings_not_average[index][2]):.8f}]\\n\")\n",
    "    index += 1\n",
    "    all_v_sim_net.append(find_score(v_sim_net))"
   ],
   "id": "2416a116185e4e6c",
   "outputs": [
    {
     "name": "stdout",
     "output_type": "stream",
     "text": [
      "Model similarity rating for e: [0.69864691 0.44969911 0.54323328]\n",
      "Human similarity rating for e: [0.53750000 0.28750000 0.46250000]\n",
      "\n",
      "Model similarity rating for M: [0.67331016 0.59381125 0.70878018]\n",
      "Human similarity rating for M: [0.78750000 0.56250000 0.51250000]\n",
      "\n",
      "Model similarity rating for 3: [0.62633534 0.71728161 0.59644647]\n",
      "Human similarity rating for 3: [0.58750000 0.60000000 0.48750000]\n",
      "\n",
      "Model similarity rating for U: [0.46896632 0.43593885 0.55044317]\n",
      "Human similarity rating for U: [0.27500000 0.21250000 0.52500000]\n",
      "\n"
     ]
    }
   ],
   "execution_count": 22
  },
  {
   "metadata": {},
   "cell_type": "markdown",
   "source": [
    "## Compare the Similarities\n",
    "Compute the correlation coefficient and graph using a bar graph"
   ],
   "id": "52c853bc70c7e03d"
  },
  {
   "metadata": {
    "ExecuteTime": {
     "end_time": "2024-08-13T11:34:22.066457Z",
     "start_time": "2024-08-13T11:34:21.785369Z"
    }
   },
   "cell_type": "code",
   "source": [
    "# Prepare data for histogram\n",
    "n_classes = len(test_list)\n",
    "width = 0.35  # Width of the bars\n",
    "opacity = 0.8\n",
    "\n",
    "# Plotting histogram\n",
    "fig, ax = plt.subplots(figsize=(10, 6))\n",
    "x = np.arange(n_classes)\n",
    "\n",
    "# Create bars for neural network similarity ratings\n",
    "bars1 = ax.bar(x - (width/2 + 0.01), all_v_sim_net, width,\n",
    "               alpha=opacity, color='#4CAF50', label='Network Similarity')\n",
    "\n",
    "# Create bars for human similarity ratings\n",
    "bars2 = ax.bar(x + (width/2 + 0.01), all_human_ratings, width,\n",
    "               alpha=opacity, color='#FFC107', label='Human Ratings')\n",
    "\n",
    "# Convert x labels from numbers to character values\n",
    "x_labels = [number_to_char(i) for i in test_list]\n",
    "\n",
    "# Adding labels\n",
    "ax.set_xlabel('Classes(Letters or Digits)')\n",
    "ax.set_ylabel('Similarity Ratings')\n",
    "ax.set_title('Comparison of Network and Human Similarity Judgments')\n",
    "ax.set_xticks(x)\n",
    "ax.set_xticklabels(x_labels)\n",
    "ax.legend()\n",
    "\n",
    "plt.tight_layout()\n",
    "plt.savefig(\"bar_graph_results.png\")\n",
    "plt.show()"
   ],
   "id": "666c72223f46de74",
   "outputs": [
    {
     "data": {
      "text/plain": [
       "<Figure size 1000x600 with 1 Axes>"
      ],
      "image/png": "[encoded data removed]"
     },
     "metadata": {},
     "output_type": "display_data"
    }
   ],
   "execution_count": 25
  },
  {
   "metadata": {},
   "cell_type": "code",
   "outputs": [],
   "execution_count": null,
   "source": "",
   "id": "240f93c3b7d99814"
  }
 ],
 "metadata": {
  "kernelspec": {
   "display_name": "Python 3",
   "language": "python",
   "name": "python3"
  },
  "language_info": {
   "codemirror_mode": {
    "name": "ipython",
    "version": 2
   },
   "file_extension": ".py",
   "mimetype": "text/x-python",
   "name": "python",
   "nbconvert_exporter": "python",
   "pygments_lexer": "ipython2",
   "version": "2.7.6"
  }
 },
 "nbformat": 4,
 "nbformat_minor": 5
}
